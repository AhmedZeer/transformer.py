{
 "cells": [
  {
   "cell_type": "code",
   "execution_count": 56,
   "id": "784b7d26-ebf6-49f2-8a39-c1b0f6921265",
   "metadata": {},
   "outputs": [],
   "source": [
    "import torch"
   ]
  },
  {
   "cell_type": "code",
   "execution_count": 57,
   "id": "edeb52bd-00b0-4774-8693-95fecc421ae0",
   "metadata": {},
   "outputs": [],
   "source": [
    "import torch.nn as nn"
   ]
  },
  {
   "cell_type": "code",
   "execution_count": 61,
   "id": "f119c56c-9104-4949-8850-17c1ae6e4798",
   "metadata": {
    "editable": true,
    "slideshow": {
     "slide_type": ""
    },
    "tags": []
   },
   "outputs": [],
   "source": [
    "batch_size = 3\n",
    "seq_len = 5\n",
    "d_model = 10"
   ]
  },
  {
   "cell_type": "code",
   "execution_count": 62,
   "id": "fa237d98-94cc-43a2-ad81-09624f771c49",
   "metadata": {},
   "outputs": [],
   "source": [
    "# Batch X seq_len X d_model\n",
    "input = torch.rand(batch_size, seq_len, d_model)"
   ]
  },
  {
   "cell_type": "code",
   "execution_count": 63,
   "id": "c1150a4f-4f94-4467-963f-c8d5460691e7",
   "metadata": {},
   "outputs": [],
   "source": [
    "head = 5"
   ]
  },
  {
   "cell_type": "code",
   "execution_count": 65,
   "id": "44df3c73-f80e-46d6-891a-2bb32659f0b4",
   "metadata": {},
   "outputs": [],
   "source": [
    "d_k = d_model // head"
   ]
  },
  {
   "cell_type": "code",
   "execution_count": 67,
   "id": "6fd3bea0-b78c-4e4d-8f7e-d6188a621e9d",
   "metadata": {},
   "outputs": [
    {
     "data": {
      "text/plain": [
       "tensor([[[[0.7821, 0.1738],\n",
       "          [0.6530, 0.4498],\n",
       "          [0.9862, 0.5377],\n",
       "          [0.0424, 0.6049],\n",
       "          [0.6897, 0.2808]],\n",
       "\n",
       "         [[0.9637, 0.7204],\n",
       "          [0.4494, 0.3887],\n",
       "          [0.2321, 0.4729],\n",
       "          [0.1687, 0.0363],\n",
       "          [0.6140, 0.1839]],\n",
       "\n",
       "         [[0.8257, 0.9229],\n",
       "          [0.1673, 0.2734],\n",
       "          [0.4067, 0.9239],\n",
       "          [0.3536, 0.7921],\n",
       "          [0.4729, 0.5410]],\n",
       "\n",
       "         [[0.4670, 0.0528],\n",
       "          [0.5393, 0.7967],\n",
       "          [0.0285, 0.4981],\n",
       "          [0.6104, 0.5701],\n",
       "          [0.3730, 0.9273]],\n",
       "\n",
       "         [[0.5929, 0.2643],\n",
       "          [0.6228, 0.0642],\n",
       "          [0.4843, 0.6954],\n",
       "          [0.6465, 0.2915],\n",
       "          [0.3729, 0.0460]]],\n",
       "\n",
       "\n",
       "        [[[0.9331, 0.3393],\n",
       "          [0.7280, 0.0284],\n",
       "          [0.8808, 0.2587],\n",
       "          [0.5508, 0.0499],\n",
       "          [0.8449, 0.9331]],\n",
       "\n",
       "         [[0.3349, 0.7401],\n",
       "          [0.3684, 0.6424],\n",
       "          [0.7066, 0.2304],\n",
       "          [0.3888, 0.2530],\n",
       "          [0.0305, 0.6054]],\n",
       "\n",
       "         [[0.3175, 0.9530],\n",
       "          [0.2672, 0.9948],\n",
       "          [0.2745, 0.3005],\n",
       "          [0.8651, 0.0110],\n",
       "          [0.4788, 0.1644]],\n",
       "\n",
       "         [[0.0985, 0.6586],\n",
       "          [0.5947, 0.1196],\n",
       "          [0.0105, 0.5749],\n",
       "          [0.6564, 0.4788],\n",
       "          [0.2363, 0.0815]],\n",
       "\n",
       "         [[0.4725, 0.4709],\n",
       "          [0.0557, 0.8022],\n",
       "          [0.9607, 0.1627],\n",
       "          [0.8840, 0.7733],\n",
       "          [0.7169, 0.1696]]],\n",
       "\n",
       "\n",
       "        [[[0.4522, 0.9282],\n",
       "          [0.8173, 0.5201],\n",
       "          [0.7219, 0.3538],\n",
       "          [0.8162, 0.1887],\n",
       "          [0.6071, 0.4708]],\n",
       "\n",
       "         [[0.4386, 0.9527],\n",
       "          [0.9574, 0.3571],\n",
       "          [0.8764, 0.0711],\n",
       "          [0.8421, 0.2859],\n",
       "          [0.8404, 0.5693]],\n",
       "\n",
       "         [[0.1521, 0.0879],\n",
       "          [0.6042, 0.3755],\n",
       "          [0.5445, 0.5255],\n",
       "          [0.3659, 0.5989],\n",
       "          [0.9649, 0.0854]],\n",
       "\n",
       "         [[0.2412, 0.7385],\n",
       "          [0.5669, 0.2684],\n",
       "          [0.5558, 0.8131],\n",
       "          [0.3753, 0.5850],\n",
       "          [0.8672, 0.3888]],\n",
       "\n",
       "         [[0.4711, 0.0580],\n",
       "          [0.4249, 0.0732],\n",
       "          [0.9642, 0.2214],\n",
       "          [0.6208, 0.2070],\n",
       "          [0.7161, 0.8410]]]])"
      ]
     },
     "execution_count": 67,
     "metadata": {},
     "output_type": "execute_result"
    }
   ],
   "source": [
    "input.view(input.shape[0], input.shape[1], head, d_k).transpose(1,2)"
   ]
  }
 ],
 "metadata": {
  "kernelspec": {
   "display_name": "Python 3 (ipykernel)",
   "language": "python",
   "name": "python3"
  },
  "language_info": {
   "codemirror_mode": {
    "name": "ipython",
    "version": 3
   },
   "file_extension": ".py",
   "mimetype": "text/x-python",
   "name": "python",
   "nbconvert_exporter": "python",
   "pygments_lexer": "ipython3",
   "version": "3.12.1"
  }
 },
 "nbformat": 4,
 "nbformat_minor": 5
}
